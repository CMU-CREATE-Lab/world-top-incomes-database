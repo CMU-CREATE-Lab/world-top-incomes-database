{
 "metadata": {
  "name": "",
  "signature": "sha256:20ca317c371531e85d03219995e7f57ed0e7b8f8e143d46748afc3923618a488"
 },
 "nbformat": 3,
 "nbformat_minor": 0,
 "worksheets": [
  {
   "cells": [
    {
     "cell_type": "markdown",
     "metadata": {},
     "source": [
      "World Top Incomes Database: http://topincomes.g-mond.parisschoolofeconomics.eu/\n",
      "\n",
      "Chris's awesome demo: http://cpb.cmucreatelab.org/visualization/examples/time-slider2.html\n",
      "\n",
      "        "
     ]
    },
    {
     "cell_type": "code",
     "collapsed": false,
     "input": [
      "%pylab inline\n",
      "import os\n",
      "import pandas"
     ],
     "language": "python",
     "metadata": {},
     "outputs": [
      {
       "output_type": "stream",
       "stream": "stdout",
       "text": [
        "Populating the interactive namespace from numpy and matplotlib\n"
       ]
      }
     ],
     "prompt_number": 7
    },
    {
     "cell_type": "markdown",
     "metadata": {},
     "source": [
      "To update data:\n",
      "- http://topincomes.g-mond.parisschoolofeconomics.eu/#Database:\n",
      "- Select all countries, all years, all variables\n",
      "- Select Download\n",
      "- Copy report.xlsx to the directory with this notebook (follows)\n",
      "        "
     ]
    },
    {
     "cell_type": "code",
     "collapsed": false,
     "input": [
      "wtid_report = os.path.abspath('report.xlsx')\n",
      "wtid_report"
     ],
     "language": "python",
     "metadata": {},
     "outputs": [
      {
       "metadata": {},
       "output_type": "pyout",
       "prompt_number": 8,
       "text": [
        "'/Users/rsargent/projects/world-top-incomes-database/report.xlsx'"
       ]
      }
     ],
     "prompt_number": 8
    },
    {
     "cell_type": "code",
     "collapsed": false,
     "input": [
      "# Here's how to read the spreadsheet in pandas with correct indexes.\n",
      "# But iterating through a pandas dataframe turned out to be orders of magnitude too slow,\n",
      "# so instead we're now converting immediately to a numpy array in the section after this one.\n",
      "#\n",
      "# Use 2nd row for header, and build a hierarchical index on the first two columns (country, year)\n",
      "#data = pandas.io.excel.read_excel(wtid_report, 'Series-layout A', header=1, index_col=[0,1])\n"
     ],
     "language": "python",
     "metadata": {},
     "outputs": [],
     "prompt_number": 9
    },
    {
     "cell_type": "code",
     "collapsed": false,
     "input": [
      "# Read with no indexes and convert immediately into a numpy array for faster performance\n",
      "data = pandas.io.excel.read_excel(wtid_report, 'Series-layout A', header=None).values\n",
      "data[0:10, 0:10]"
     ],
     "language": "python",
     "metadata": {},
     "outputs": [
      {
       "metadata": {},
       "output_type": "pyout",
       "prompt_number": 10,
       "text": [
        "array([[u'Variable code', nan, 1110101.0, 1110102.0, 1110103.0, 1110104.0,\n",
        "        1110105.0, 1110106.0, 1110201.0, 1110202.0],\n",
        "       [u'Country', u'Year', u'Top 10% income share',\n",
        "        u'Top 10% income share-LAD',\n",
        "        u'Top 10% income share-married couples & single adults',\n",
        "        u'Top 10% income share-adults', u'Top 10% income share-tax data',\n",
        "        u'Top 10% income share-IDS', u'Top 5% income share',\n",
        "        u'Top 5% income share-LAD'],\n",
        "       [u'Argentina', 1932.0, nan, nan, nan, nan, nan, nan, nan, nan],\n",
        "       [u'Argentina', 1933.0, nan, nan, nan, nan, nan, nan, nan, nan],\n",
        "       [u'Argentina', 1934.0, nan, nan, nan, nan, nan, nan, nan, nan],\n",
        "       [u'Argentina', 1935.0, nan, nan, nan, nan, nan, nan, nan, nan],\n",
        "       [u'Argentina', 1936.0, nan, nan, nan, nan, nan, nan, nan, nan],\n",
        "       [u'Argentina', 1937.0, nan, nan, nan, nan, nan, nan, nan, nan],\n",
        "       [u'Argentina', 1938.0, nan, nan, nan, nan, nan, nan, nan, nan],\n",
        "       [u'Argentina', 1939.0, nan, nan, nan, nan, nan, nan, nan, nan]], dtype=object)"
       ]
      }
     ],
     "prompt_number": 10
    },
    {
     "cell_type": "markdown",
     "metadata": {},
     "source": [
      "JSON format:\n",
      "\n",
      "    {\n",
      "      \"series\": [\n",
      "        {\n",
      "          \"category\": \"Top 10% income share\",\n",
      "          \"variants\": [\"Top 10% income share\",\n",
      "                       \"Top 10% income share-LAD\",\n",
      "                       \"Top 10% income share-married couples & single adults\",\n",
      "                       ...]\n",
      "        },\n",
      "        ...\n",
      "      ],\n",
      "      \"countries\": {\n",
      "        \"Argentina\": {\n",
      "          \"Top 1% income share\": [[1932, 18.77], [1933, 17.18], ...],\n",
      "          \"Top 10% income share\": [[1932, 18.77], [1933, 17.18], ...]\n",
      "         },\n",
      "         \"United States\": {\n",
      "           ....\n",
      "         }\n",
      "       }\n",
      "    }\n"
     ]
    },
    {
     "cell_type": "code",
     "collapsed": false,
     "input": [
      "# PrettyFloat is a way to make python ignore the last bits of precision in order\n",
      "# to write floats in JSON more succinctly.  Credit http://stackoverflow.com/questions/1447287/format-floats-with-standard-json-module\n",
      "\n",
      "class PrettyFloat(float):\n",
      "    def __repr__(self):\n",
      "        return '%.15g' % self\n",
      "\n",
      "def pretty_floats(obj):\n",
      "    if isinstance(obj, float):\n",
      "        return PrettyFloat(obj)\n",
      "    elif isinstance(obj, dict):\n",
      "        return dict((k, pretty_floats(v)) for k, v in obj.items())\n",
      "    elif isinstance(obj, (list, tuple)):\n",
      "        return map(pretty_floats, obj)             \n",
      "    return obj"
     ],
     "language": "python",
     "metadata": {},
     "outputs": [],
     "prompt_number": 11
    },
    {
     "cell_type": "code",
     "collapsed": false,
     "input": [
      "import json\n",
      "import time\n",
      "\n",
      "before = time.time()\n",
      "\n",
      "out = {'series': [], 'countries': {}}\n",
      "\n",
      "rows = range(2, data.shape[0])\n",
      "cols = range(2, data.shape[1])\n",
      "\n",
      "parent = None\n",
      "\n",
      "for c in cols:\n",
      "    series_id = data[0, c]\n",
      "    series_name = data[1, c]\n",
      "    if int(series_id) % 100 == 1:\n",
      "        out['series'].append({'category': series_name, 'variants': [], 'id':int(series_id)})\n",
      "    out['series'][-1]['variants'].append(series_name)\n",
      "\n",
      "for r in rows:\n",
      "    for c in cols:\n",
      "        country = data[r, 0]\n",
      "        year = data[r, 1]\n",
      "        series_id = data[0, c]\n",
      "        series_name = data[1, c]\n",
      "        value = data[r, c]\n",
      "        if not math.isnan(value):\n",
      "            if not country in out['countries']:\n",
      "                out['countries'][country] = {}\n",
      "            if not series_name in out['countries'][country]:\n",
      "                out['countries'][country][series_name] = []\n",
      "            out['countries'][country][series_name].append([year, value])\n",
      "\n",
      "json_file = os.path.abspath('wtid.json')\n",
      "json.dump(pretty_floats(out), open(json_file, 'w'))\n",
      "print 'Wrote %d countries (%d bytes) to %s' % (len(out), os.stat(json_file).st_size, json_file)\n",
      "print 'Took %.3g seconds' % (time.time() - before)"
     ],
     "language": "python",
     "metadata": {},
     "outputs": [
      {
       "output_type": "stream",
       "stream": "stdout",
       "text": [
        "Wrote 2 countries (1485451 bytes) to /Users/rsargent/projects/world-top-incomes-database/wtid.json\n",
        "Took 2.63 seconds\n"
       ]
      }
     ],
     "prompt_number": 12
    },
    {
     "cell_type": "code",
     "collapsed": false,
     "input": [],
     "language": "python",
     "metadata": {},
     "outputs": [],
     "prompt_number": 12
    },
    {
     "cell_type": "code",
     "collapsed": false,
     "input": [],
     "language": "python",
     "metadata": {},
     "outputs": []
    }
   ],
   "metadata": {}
  }
 ]
}